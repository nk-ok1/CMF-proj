{
 "cells": [
  {
   "cell_type": "code",
   "execution_count": 4,
   "metadata": {},
   "outputs": [
    {
     "name": "stdout",
     "output_type": "stream",
     "text": [
      "Note: you may need to restart the kernel to use updated packages.\n"
     ]
    },
    {
     "name": "stderr",
     "output_type": "stream",
     "text": [
      "\"c:\\program\" ­Ґ пў«пҐвбп ў­гваҐ­­Ґ© Ё«Ё ў­Ґи­Ґ©\n",
      "Є®¬ ­¤®©, ЁбЇ®«­пҐ¬®© Їа®Ја ¬¬®© Ё«Ё Ї ЄҐв­л¬ д ©«®¬.\n"
     ]
    }
   ],
   "source": [
    "pip install investpy"
   ]
  },
  {
   "cell_type": "code",
   "execution_count": 93,
   "metadata": {},
   "outputs": [],
   "source": [
    "import yfinance as yf\n",
    "import pandas as pd\n",
    "import investpy\n",
    "import numpy as np\n",
    "import pandas_datareader.data as web"
   ]
  },
  {
   "cell_type": "code",
   "execution_count": null,
   "metadata": {},
   "outputs": [],
   "source": []
  },
  {
   "cell_type": "code",
   "execution_count": 94,
   "metadata": {},
   "outputs": [
    {
     "name": "stdout",
     "output_type": "stream",
     "text": [
      "[*********************100%***********************]  1 of 1 completed\n"
     ]
    }
   ],
   "source": [
    "data = yf.download(  # or pdr.get_data_yahoo(...\n",
    "        # tickers list or string as well\n",
    "        tickers = \"MTF=F\",\n",
    "    \n",
    "    \n",
    "    \n",
    "    \n",
    "        start=\"2011-01-01\",\n",
    "    \n",
    "    \n",
    "        end=\"2021-11-13\",\n",
    "\n",
    "        # use \"period\" instead of start/end\n",
    "        # valid periods: 1d,5d,1mo,3mo,6mo,1y,2y,5y,10y,ytd,max\n",
    "        # (optional, default is '1mo')\n",
    "        #period = \"ytd\",\n",
    "\n",
    "        # fetch data by interval (including intraday if period < 60 days)\n",
    "        # valid intervals: 1m,2m,5m,15m,30m,60m,90m,1h,1d,5d,1wk,1mo,3mo\n",
    "        # (optional, default is '1d')\n",
    "        interval = \"3mo\",\n",
    "\n",
    "        # group by ticker (to access via data['SPY'])\n",
    "        # (optional, default is 'column')\n",
    "        group_by = 'ticker',\n",
    "    )"
   ]
  },
  {
   "cell_type": "code",
   "execution_count": 96,
   "metadata": {},
   "outputs": [],
   "source": [
    "data=data.iloc[:len(data)-1]"
   ]
  },
  {
   "cell_type": "code",
   "execution_count": 97,
   "metadata": {},
   "outputs": [],
   "source": [
    "factors = web.DataReader('PNGASJPUSDQ', 'fred', '2009.01.01', '2021.11.14')"
   ]
  },
  {
   "cell_type": "code",
   "execution_count": 105,
   "metadata": {},
   "outputs": [
    {
     "data": {
      "text/plain": [
       "Date\n",
       "2010-12-01    120.000000\n",
       "2011-03-01    122.150002\n",
       "2011-06-01    125.650002\n",
       "2011-09-01    112.000000\n",
       "2011-12-01     97.750000\n",
       "2012-03-01     88.250000\n",
       "2012-06-01     93.800003\n",
       "2012-09-01     89.500000\n",
       "2012-12-01     87.660004\n",
       "2013-03-01     82.050003\n",
       "2013-06-01     75.699997\n",
       "2014-03-01     74.849998\n",
       "2014-09-01     74.150002\n",
       "2014-12-01     61.900002\n",
       "2015-06-01     55.869999\n",
       "2015-09-01     53.779999\n",
       "2015-12-01     43.880001\n",
       "2016-03-01     48.150002\n",
       "2016-06-01     60.230000\n",
       "2016-09-01     85.900002\n",
       "2016-12-01     82.260002\n",
       "2017-03-01     74.529999\n",
       "2017-06-01     87.800003\n",
       "2017-09-01     92.750000\n",
       "2017-12-01     81.550003\n",
       "2018-03-01     95.000000\n",
       "2018-06-01     97.650002\n",
       "2018-09-01     88.500000\n",
       "2018-12-01     75.000000\n",
       "2019-03-01     56.450001\n",
       "2019-06-01     54.250000\n",
       "2020-06-01     49.029999\n",
       "2020-09-01     53.790001\n",
       "2020-12-01     65.900002\n",
       "2021-03-01     86.099998\n",
       "2021-06-01    154.600006\n",
       "Name: Adj Close, dtype: float64"
      ]
     },
     "execution_count": 105,
     "metadata": {},
     "output_type": "execute_result"
    }
   ],
   "source": [
    "data['Adj Close']"
   ]
  },
  {
   "cell_type": "code",
   "execution_count": 104,
   "metadata": {},
   "outputs": [
    {
     "data": {
      "text/html": [
       "<div>\n",
       "<style scoped>\n",
       "    .dataframe tbody tr th:only-of-type {\n",
       "        vertical-align: middle;\n",
       "    }\n",
       "\n",
       "    .dataframe tbody tr th {\n",
       "        vertical-align: top;\n",
       "    }\n",
       "\n",
       "    .dataframe thead th {\n",
       "        text-align: right;\n",
       "    }\n",
       "</style>\n",
       "<table border=\"1\" class=\"dataframe\">\n",
       "  <thead>\n",
       "    <tr style=\"text-align: right;\">\n",
       "      <th></th>\n",
       "      <th>0</th>\n",
       "      <th>PNGASJPUSDQ</th>\n",
       "    </tr>\n",
       "  </thead>\n",
       "  <tbody>\n",
       "    <tr>\n",
       "      <th>2010-12-01</th>\n",
       "      <td>120.000000</td>\n",
       "      <td>NaN</td>\n",
       "    </tr>\n",
       "    <tr>\n",
       "      <th>2011-03-01</th>\n",
       "      <td>122.150002</td>\n",
       "      <td>NaN</td>\n",
       "    </tr>\n",
       "    <tr>\n",
       "      <th>2011-06-01</th>\n",
       "      <td>125.650002</td>\n",
       "      <td>NaN</td>\n",
       "    </tr>\n",
       "    <tr>\n",
       "      <th>2011-09-01</th>\n",
       "      <td>112.000000</td>\n",
       "      <td>NaN</td>\n",
       "    </tr>\n",
       "    <tr>\n",
       "      <th>2011-12-01</th>\n",
       "      <td>97.750000</td>\n",
       "      <td>NaN</td>\n",
       "    </tr>\n",
       "    <tr>\n",
       "      <th>...</th>\n",
       "      <td>...</td>\n",
       "      <td>...</td>\n",
       "    </tr>\n",
       "    <tr>\n",
       "      <th>2020-07-01</th>\n",
       "      <td>NaN</td>\n",
       "      <td>3.507481</td>\n",
       "    </tr>\n",
       "    <tr>\n",
       "      <th>2020-10-01</th>\n",
       "      <td>NaN</td>\n",
       "      <td>8.184291</td>\n",
       "    </tr>\n",
       "    <tr>\n",
       "      <th>2021-01-01</th>\n",
       "      <td>NaN</td>\n",
       "      <td>11.342489</td>\n",
       "    </tr>\n",
       "    <tr>\n",
       "      <th>2021-04-01</th>\n",
       "      <td>NaN</td>\n",
       "      <td>9.975301</td>\n",
       "    </tr>\n",
       "    <tr>\n",
       "      <th>2021-07-01</th>\n",
       "      <td>NaN</td>\n",
       "      <td>18.267879</td>\n",
       "    </tr>\n",
       "  </tbody>\n",
       "</table>\n",
       "<p>87 rows × 2 columns</p>\n",
       "</div>"
      ],
      "text/plain": [
       "                     0  PNGASJPUSDQ\n",
       "2010-12-01  120.000000          NaN\n",
       "2011-03-01  122.150002          NaN\n",
       "2011-06-01  125.650002          NaN\n",
       "2011-09-01  112.000000          NaN\n",
       "2011-12-01   97.750000          NaN\n",
       "...                ...          ...\n",
       "2020-07-01         NaN     3.507481\n",
       "2020-10-01         NaN     8.184291\n",
       "2021-01-01         NaN    11.342489\n",
       "2021-04-01         NaN     9.975301\n",
       "2021-07-01         NaN    18.267879\n",
       "\n",
       "[87 rows x 2 columns]"
      ]
     },
     "execution_count": 104,
     "metadata": {},
     "output_type": "execute_result"
    }
   ],
   "source": [
    "pd.concat([data['Adj Close'],factors])"
   ]
  },
  {
   "cell_type": "code",
   "execution_count": 78,
   "metadata": {},
   "outputs": [
    {
     "data": {
      "text/html": [
       "<div>\n",
       "<style scoped>\n",
       "    .dataframe tbody tr th:only-of-type {\n",
       "        vertical-align: middle;\n",
       "    }\n",
       "\n",
       "    .dataframe tbody tr th {\n",
       "        vertical-align: top;\n",
       "    }\n",
       "\n",
       "    .dataframe thead th {\n",
       "        text-align: right;\n",
       "    }\n",
       "</style>\n",
       "<table border=\"1\" class=\"dataframe\">\n",
       "  <thead>\n",
       "    <tr style=\"text-align: right;\">\n",
       "      <th></th>\n",
       "      <th>Open</th>\n",
       "      <th>High</th>\n",
       "      <th>Low</th>\n",
       "      <th>Close</th>\n",
       "      <th>Volume</th>\n",
       "      <th>Currency</th>\n",
       "    </tr>\n",
       "    <tr>\n",
       "      <th>Date</th>\n",
       "      <th></th>\n",
       "      <th></th>\n",
       "      <th></th>\n",
       "      <th></th>\n",
       "      <th></th>\n",
       "      <th></th>\n",
       "    </tr>\n",
       "  </thead>\n",
       "  <tbody>\n",
       "    <tr>\n",
       "      <th>2014-06-05</th>\n",
       "      <td>1187.3</td>\n",
       "      <td>1195.0</td>\n",
       "      <td>1141.1</td>\n",
       "      <td>1145.1</td>\n",
       "      <td>24974</td>\n",
       "      <td>RUB</td>\n",
       "    </tr>\n",
       "    <tr>\n",
       "      <th>2014-06-06</th>\n",
       "      <td>1158.3</td>\n",
       "      <td>1173.5</td>\n",
       "      <td>1151.0</td>\n",
       "      <td>1163.0</td>\n",
       "      <td>7889</td>\n",
       "      <td>RUB</td>\n",
       "    </tr>\n",
       "    <tr>\n",
       "      <th>2014-06-09</th>\n",
       "      <td>1178.9</td>\n",
       "      <td>1185.6</td>\n",
       "      <td>1155.7</td>\n",
       "      <td>1172.1</td>\n",
       "      <td>7304</td>\n",
       "      <td>RUB</td>\n",
       "    </tr>\n",
       "    <tr>\n",
       "      <th>2014-06-10</th>\n",
       "      <td>1178.9</td>\n",
       "      <td>1181.0</td>\n",
       "      <td>1160.1</td>\n",
       "      <td>1170.0</td>\n",
       "      <td>3216</td>\n",
       "      <td>RUB</td>\n",
       "    </tr>\n",
       "    <tr>\n",
       "      <th>2014-06-11</th>\n",
       "      <td>1175.0</td>\n",
       "      <td>1183.0</td>\n",
       "      <td>1157.1</td>\n",
       "      <td>1179.9</td>\n",
       "      <td>8837</td>\n",
       "      <td>RUB</td>\n",
       "    </tr>\n",
       "    <tr>\n",
       "      <th>...</th>\n",
       "      <td>...</td>\n",
       "      <td>...</td>\n",
       "      <td>...</td>\n",
       "      <td>...</td>\n",
       "      <td>...</td>\n",
       "      <td>...</td>\n",
       "    </tr>\n",
       "    <tr>\n",
       "      <th>2019-12-24</th>\n",
       "      <td>2704.6</td>\n",
       "      <td>2711.8</td>\n",
       "      <td>2676.2</td>\n",
       "      <td>2688.0</td>\n",
       "      <td>158499</td>\n",
       "      <td>RUB</td>\n",
       "    </tr>\n",
       "    <tr>\n",
       "      <th>2019-12-25</th>\n",
       "      <td>2688.0</td>\n",
       "      <td>2693.0</td>\n",
       "      <td>2672.0</td>\n",
       "      <td>2687.0</td>\n",
       "      <td>57922</td>\n",
       "      <td>RUB</td>\n",
       "    </tr>\n",
       "    <tr>\n",
       "      <th>2019-12-26</th>\n",
       "      <td>2689.0</td>\n",
       "      <td>2718.6</td>\n",
       "      <td>2678.0</td>\n",
       "      <td>2713.0</td>\n",
       "      <td>176612</td>\n",
       "      <td>RUB</td>\n",
       "    </tr>\n",
       "    <tr>\n",
       "      <th>2019-12-27</th>\n",
       "      <td>2713.4</td>\n",
       "      <td>2750.0</td>\n",
       "      <td>2710.0</td>\n",
       "      <td>2736.0</td>\n",
       "      <td>289417</td>\n",
       "      <td>RUB</td>\n",
       "    </tr>\n",
       "    <tr>\n",
       "      <th>2019-12-30</th>\n",
       "      <td>2736.0</td>\n",
       "      <td>2740.0</td>\n",
       "      <td>2665.0</td>\n",
       "      <td>2697.0</td>\n",
       "      <td>248658</td>\n",
       "      <td>RUB</td>\n",
       "    </tr>\n",
       "  </tbody>\n",
       "</table>\n",
       "<p>1406 rows × 6 columns</p>\n",
       "</div>"
      ],
      "text/plain": [
       "              Open    High     Low   Close  Volume Currency\n",
       "Date                                                       \n",
       "2014-06-05  1187.3  1195.0  1141.1  1145.1   24974      RUB\n",
       "2014-06-06  1158.3  1173.5  1151.0  1163.0    7889      RUB\n",
       "2014-06-09  1178.9  1185.6  1155.7  1172.1    7304      RUB\n",
       "2014-06-10  1178.9  1181.0  1160.1  1170.0    3216      RUB\n",
       "2014-06-11  1175.0  1183.0  1157.1  1179.9    8837      RUB\n",
       "...            ...     ...     ...     ...     ...      ...\n",
       "2019-12-24  2704.6  2711.8  2676.2  2688.0  158499      RUB\n",
       "2019-12-25  2688.0  2693.0  2672.0  2687.0   57922      RUB\n",
       "2019-12-26  2689.0  2718.6  2678.0  2713.0  176612      RUB\n",
       "2019-12-27  2713.4  2750.0  2710.0  2736.0  289417      RUB\n",
       "2019-12-30  2736.0  2740.0  2665.0  2697.0  248658      RUB\n",
       "\n",
       "[1406 rows x 6 columns]"
      ]
     },
     "execution_count": 78,
     "metadata": {},
     "output_type": "execute_result"
    }
   ],
   "source": [
    "df"
   ]
  },
  {
   "cell_type": "code",
   "execution_count": 65,
   "metadata": {},
   "outputs": [],
   "source": [
    "df = investpy.get_stock_historical_data(stock='YNDX',\n",
    "                                        country= 'russia' ,\n",
    "                                        from_date='01/01/2010',\n",
    "                                        to_date='01/01/2020')"
   ]
  },
  {
   "cell_type": "code",
   "execution_count": 67,
   "metadata": {},
   "outputs": [
    {
     "ename": "RuntimeError",
     "evalue": "ERR#0018: stock jkmc1 not found, check if it is correct.",
     "output_type": "error",
     "traceback": [
      "\u001b[1;31m---------------------------------------------------------------------------\u001b[0m",
      "\u001b[1;31mRuntimeError\u001b[0m                              Traceback (most recent call last)",
      "\u001b[1;32m<ipython-input-67-4205861eeb06>\u001b[0m in \u001b[0;36m<module>\u001b[1;34m\u001b[0m\n\u001b[0;32m      2\u001b[0m                                         \u001b[0mcountry\u001b[0m\u001b[1;33m=\u001b[0m \u001b[1;34m'united states'\u001b[0m \u001b[1;33m,\u001b[0m\u001b[1;33m\u001b[0m\u001b[1;33m\u001b[0m\u001b[0m\n\u001b[0;32m      3\u001b[0m                                         \u001b[0mfrom_date\u001b[0m\u001b[1;33m=\u001b[0m\u001b[1;34m'01/01/2010'\u001b[0m\u001b[1;33m,\u001b[0m\u001b[1;33m\u001b[0m\u001b[1;33m\u001b[0m\u001b[0m\n\u001b[1;32m----> 4\u001b[1;33m                                         to_date='01/01/2020')\n\u001b[0m",
      "\u001b[1;32m~\\AppData\\Roaming\\Python\\Python37\\site-packages\\investpy\\stocks.py\u001b[0m in \u001b[0;36mget_stock_historical_data\u001b[1;34m(stock, country, from_date, to_date, as_json, order, interval)\u001b[0m\n\u001b[0;32m    517\u001b[0m \u001b[1;33m\u001b[0m\u001b[0m\n\u001b[0;32m    518\u001b[0m     \u001b[1;32mif\u001b[0m \u001b[0mstock\u001b[0m \u001b[1;32mnot\u001b[0m \u001b[1;32min\u001b[0m \u001b[0mlist\u001b[0m\u001b[1;33m(\u001b[0m\u001b[0mstocks\u001b[0m\u001b[1;33m[\u001b[0m\u001b[1;34m'symbol'\u001b[0m\u001b[1;33m]\u001b[0m\u001b[1;33m.\u001b[0m\u001b[0mapply\u001b[0m\u001b[1;33m(\u001b[0m\u001b[0munidecode\u001b[0m\u001b[1;33m)\u001b[0m\u001b[1;33m.\u001b[0m\u001b[0mstr\u001b[0m\u001b[1;33m.\u001b[0m\u001b[0mlower\u001b[0m\u001b[1;33m(\u001b[0m\u001b[1;33m)\u001b[0m\u001b[1;33m)\u001b[0m\u001b[1;33m:\u001b[0m\u001b[1;33m\u001b[0m\u001b[1;33m\u001b[0m\u001b[0m\n\u001b[1;32m--> 519\u001b[1;33m         \u001b[1;32mraise\u001b[0m \u001b[0mRuntimeError\u001b[0m\u001b[1;33m(\u001b[0m\u001b[1;34m\"ERR#0018: stock \"\u001b[0m \u001b[1;33m+\u001b[0m \u001b[0mstock\u001b[0m \u001b[1;33m+\u001b[0m \u001b[1;34m\" not found, check if it is correct.\"\u001b[0m\u001b[1;33m)\u001b[0m\u001b[1;33m\u001b[0m\u001b[1;33m\u001b[0m\u001b[0m\n\u001b[0m\u001b[0;32m    520\u001b[0m \u001b[1;33m\u001b[0m\u001b[0m\n\u001b[0;32m    521\u001b[0m     \u001b[0msymbol\u001b[0m \u001b[1;33m=\u001b[0m \u001b[0mstocks\u001b[0m\u001b[1;33m.\u001b[0m\u001b[0mloc\u001b[0m\u001b[1;33m[\u001b[0m\u001b[1;33m(\u001b[0m\u001b[0mstocks\u001b[0m\u001b[1;33m[\u001b[0m\u001b[1;34m'symbol'\u001b[0m\u001b[1;33m]\u001b[0m\u001b[1;33m.\u001b[0m\u001b[0mapply\u001b[0m\u001b[1;33m(\u001b[0m\u001b[0munidecode\u001b[0m\u001b[1;33m)\u001b[0m\u001b[1;33m.\u001b[0m\u001b[0mstr\u001b[0m\u001b[1;33m.\u001b[0m\u001b[0mlower\u001b[0m\u001b[1;33m(\u001b[0m\u001b[1;33m)\u001b[0m \u001b[1;33m==\u001b[0m \u001b[0mstock\u001b[0m\u001b[1;33m)\u001b[0m\u001b[1;33m.\u001b[0m\u001b[0midxmax\u001b[0m\u001b[1;33m(\u001b[0m\u001b[1;33m)\u001b[0m\u001b[1;33m,\u001b[0m \u001b[1;34m'symbol'\u001b[0m\u001b[1;33m]\u001b[0m\u001b[1;33m\u001b[0m\u001b[1;33m\u001b[0m\u001b[0m\n",
      "\u001b[1;31mRuntimeError\u001b[0m: ERR#0018: stock jkmc1 not found, check if it is correct."
     ]
    }
   ],
   "source": [
    "df = investpy.get_stock_historical_data(stock='JKMc1',\n",
    "                                        country= 'united states' ,\n",
    "                                        from_date='01/01/2010',\n",
    "                                        to_date='01/01/2020')"
   ]
  },
  {
   "cell_type": "code",
   "execution_count": 66,
   "metadata": {},
   "outputs": [
    {
     "data": {
      "text/html": [
       "<div>\n",
       "<style scoped>\n",
       "    .dataframe tbody tr th:only-of-type {\n",
       "        vertical-align: middle;\n",
       "    }\n",
       "\n",
       "    .dataframe tbody tr th {\n",
       "        vertical-align: top;\n",
       "    }\n",
       "\n",
       "    .dataframe thead th {\n",
       "        text-align: right;\n",
       "    }\n",
       "</style>\n",
       "<table border=\"1\" class=\"dataframe\">\n",
       "  <thead>\n",
       "    <tr style=\"text-align: right;\">\n",
       "      <th></th>\n",
       "      <th>Open</th>\n",
       "      <th>High</th>\n",
       "      <th>Low</th>\n",
       "      <th>Close</th>\n",
       "      <th>Volume</th>\n",
       "      <th>Currency</th>\n",
       "    </tr>\n",
       "    <tr>\n",
       "      <th>Date</th>\n",
       "      <th></th>\n",
       "      <th></th>\n",
       "      <th></th>\n",
       "      <th></th>\n",
       "      <th></th>\n",
       "      <th></th>\n",
       "    </tr>\n",
       "  </thead>\n",
       "  <tbody>\n",
       "    <tr>\n",
       "      <th>2014-06-05</th>\n",
       "      <td>1187.3</td>\n",
       "      <td>1195.0</td>\n",
       "      <td>1141.1</td>\n",
       "      <td>1145.1</td>\n",
       "      <td>24974</td>\n",
       "      <td>RUB</td>\n",
       "    </tr>\n",
       "    <tr>\n",
       "      <th>2014-06-06</th>\n",
       "      <td>1158.3</td>\n",
       "      <td>1173.5</td>\n",
       "      <td>1151.0</td>\n",
       "      <td>1163.0</td>\n",
       "      <td>7889</td>\n",
       "      <td>RUB</td>\n",
       "    </tr>\n",
       "    <tr>\n",
       "      <th>2014-06-09</th>\n",
       "      <td>1178.9</td>\n",
       "      <td>1185.6</td>\n",
       "      <td>1155.7</td>\n",
       "      <td>1172.1</td>\n",
       "      <td>7304</td>\n",
       "      <td>RUB</td>\n",
       "    </tr>\n",
       "    <tr>\n",
       "      <th>2014-06-10</th>\n",
       "      <td>1178.9</td>\n",
       "      <td>1181.0</td>\n",
       "      <td>1160.1</td>\n",
       "      <td>1170.0</td>\n",
       "      <td>3216</td>\n",
       "      <td>RUB</td>\n",
       "    </tr>\n",
       "    <tr>\n",
       "      <th>2014-06-11</th>\n",
       "      <td>1175.0</td>\n",
       "      <td>1183.0</td>\n",
       "      <td>1157.1</td>\n",
       "      <td>1179.9</td>\n",
       "      <td>8837</td>\n",
       "      <td>RUB</td>\n",
       "    </tr>\n",
       "    <tr>\n",
       "      <th>...</th>\n",
       "      <td>...</td>\n",
       "      <td>...</td>\n",
       "      <td>...</td>\n",
       "      <td>...</td>\n",
       "      <td>...</td>\n",
       "      <td>...</td>\n",
       "    </tr>\n",
       "    <tr>\n",
       "      <th>2019-12-24</th>\n",
       "      <td>2704.6</td>\n",
       "      <td>2711.8</td>\n",
       "      <td>2676.2</td>\n",
       "      <td>2688.0</td>\n",
       "      <td>158499</td>\n",
       "      <td>RUB</td>\n",
       "    </tr>\n",
       "    <tr>\n",
       "      <th>2019-12-25</th>\n",
       "      <td>2688.0</td>\n",
       "      <td>2693.0</td>\n",
       "      <td>2672.0</td>\n",
       "      <td>2687.0</td>\n",
       "      <td>57922</td>\n",
       "      <td>RUB</td>\n",
       "    </tr>\n",
       "    <tr>\n",
       "      <th>2019-12-26</th>\n",
       "      <td>2689.0</td>\n",
       "      <td>2718.6</td>\n",
       "      <td>2678.0</td>\n",
       "      <td>2713.0</td>\n",
       "      <td>176612</td>\n",
       "      <td>RUB</td>\n",
       "    </tr>\n",
       "    <tr>\n",
       "      <th>2019-12-27</th>\n",
       "      <td>2713.4</td>\n",
       "      <td>2750.0</td>\n",
       "      <td>2710.0</td>\n",
       "      <td>2736.0</td>\n",
       "      <td>289417</td>\n",
       "      <td>RUB</td>\n",
       "    </tr>\n",
       "    <tr>\n",
       "      <th>2019-12-30</th>\n",
       "      <td>2736.0</td>\n",
       "      <td>2740.0</td>\n",
       "      <td>2665.0</td>\n",
       "      <td>2697.0</td>\n",
       "      <td>248658</td>\n",
       "      <td>RUB</td>\n",
       "    </tr>\n",
       "  </tbody>\n",
       "</table>\n",
       "<p>1406 rows × 6 columns</p>\n",
       "</div>"
      ],
      "text/plain": [
       "              Open    High     Low   Close  Volume Currency\n",
       "Date                                                       \n",
       "2014-06-05  1187.3  1195.0  1141.1  1145.1   24974      RUB\n",
       "2014-06-06  1158.3  1173.5  1151.0  1163.0    7889      RUB\n",
       "2014-06-09  1178.9  1185.6  1155.7  1172.1    7304      RUB\n",
       "2014-06-10  1178.9  1181.0  1160.1  1170.0    3216      RUB\n",
       "2014-06-11  1175.0  1183.0  1157.1  1179.9    8837      RUB\n",
       "...            ...     ...     ...     ...     ...      ...\n",
       "2019-12-24  2704.6  2711.8  2676.2  2688.0  158499      RUB\n",
       "2019-12-25  2688.0  2693.0  2672.0  2687.0   57922      RUB\n",
       "2019-12-26  2689.0  2718.6  2678.0  2713.0  176612      RUB\n",
       "2019-12-27  2713.4  2750.0  2710.0  2736.0  289417      RUB\n",
       "2019-12-30  2736.0  2740.0  2665.0  2697.0  248658      RUB\n",
       "\n",
       "[1406 rows x 6 columns]"
      ]
     },
     "execution_count": 66,
     "metadata": {},
     "output_type": "execute_result"
    }
   ],
   "source": [
    "df"
   ]
  },
  {
   "cell_type": "code",
   "execution_count": 68,
   "metadata": {},
   "outputs": [],
   "source": [
    "sr=(investpy.search_quotes(text='JKMc1', \n",
    "                       #products=['stocks'],\n",
    "                       #countries=['united states'],\n",
    "                       n_results=1))"
   ]
  },
  {
   "cell_type": "code",
   "execution_count": 69,
   "metadata": {},
   "outputs": [
    {
     "name": "stdout",
     "output_type": "stream",
     "text": [
      "{\"id_\": 1173441, \"name\": \"LNG Japan/Korea Marker PLATTS Future\", \"symbol\": \"JKMc1\", \"country\": null, \"tag\": \"/commodities/lng-japan-korea-marker-platts-futures\", \"pair_type\": \"commodities\", \"exchange\": \"CME\"}\n"
     ]
    }
   ],
   "source": [
    "print(sr)"
   ]
  },
  {
   "cell_type": "code",
   "execution_count": 58,
   "metadata": {},
   "outputs": [
    {
     "data": {
      "text/plain": [
       "<investpy.utils.search_obj.SearchObj at 0x1f555f82a88>"
      ]
     },
     "execution_count": 58,
     "metadata": {},
     "output_type": "execute_result"
    }
   ],
   "source": [
    "sr"
   ]
  },
  {
   "cell_type": "code",
   "execution_count": 56,
   "metadata": {},
   "outputs": [
    {
     "name": "stdout",
     "output_type": "stream",
     "text": [
      "{\"id_\": 6408, \"name\": \"Apple Inc\", \"symbol\": \"AAPL\", \"country\": \"united states\", \"tag\": \"/equities/apple-computer-inc\", \"pair_type\": \"stocks\", \"exchange\": \"NASDAQ\"}\n"
     ]
    }
   ],
   "source": [
    "search_result = investpy.search_quotes(text='apple', products=['stocks'],\n",
    "                                       countries=['united states'], n_results=1)\n",
    "print(search_result)"
   ]
  },
  {
   "cell_type": "code",
   "execution_count": 55,
   "metadata": {},
   "outputs": [
    {
     "data": {
      "text/plain": [
       "['andorra',\n",
       " 'australia',\n",
       " 'austria',\n",
       " 'bahrain',\n",
       " 'belgium',\n",
       " 'bermuda',\n",
       " 'brazil',\n",
       " 'canada',\n",
       " 'cayman islands',\n",
       " 'chile',\n",
       " 'china',\n",
       " 'czech republic',\n",
       " 'denmark',\n",
       " 'estonia',\n",
       " 'finland',\n",
       " 'france',\n",
       " 'germany',\n",
       " 'gibraltar',\n",
       " 'greece',\n",
       " 'hong kong',\n",
       " 'hungary',\n",
       " 'iceland',\n",
       " 'india',\n",
       " 'indonesia',\n",
       " 'ireland',\n",
       " 'israel',\n",
       " 'italy',\n",
       " 'japan',\n",
       " 'latvia',\n",
       " 'liechtenstein',\n",
       " 'lithuania',\n",
       " 'luxembourg',\n",
       " 'malaysia',\n",
       " 'malta',\n",
       " 'mauritius',\n",
       " 'mexico',\n",
       " 'monaco',\n",
       " 'namibia',\n",
       " 'netherlands',\n",
       " 'new zealand',\n",
       " 'norway',\n",
       " 'oman',\n",
       " 'pakistan',\n",
       " 'philippines',\n",
       " 'poland',\n",
       " 'portugal',\n",
       " 'qatar',\n",
       " 'russia',\n",
       " 'saudi arabia',\n",
       " 'singapore',\n",
       " 'slovenia',\n",
       " 'south africa',\n",
       " 'south korea',\n",
       " 'spain',\n",
       " 'sweden',\n",
       " 'switzerland',\n",
       " 'taiwan',\n",
       " 'thailand',\n",
       " 'dubai',\n",
       " 'united kingdom',\n",
       " 'united states',\n",
       " 'vietnam']"
      ]
     },
     "execution_count": 55,
     "metadata": {},
     "output_type": "execute_result"
    }
   ],
   "source": [
    "investpy.funds.get_fund_countries()"
   ]
  },
  {
   "cell_type": "code",
   "execution_count": null,
   "metadata": {},
   "outputs": [],
   "source": []
  }
 ],
 "metadata": {
  "kernelspec": {
   "display_name": "Python 3",
   "language": "python",
   "name": "python3"
  },
  "language_info": {
   "codemirror_mode": {
    "name": "ipython",
    "version": 3
   },
   "file_extension": ".py",
   "mimetype": "text/x-python",
   "name": "python",
   "nbconvert_exporter": "python",
   "pygments_lexer": "ipython3",
   "version": "3.7.8"
  }
 },
 "nbformat": 4,
 "nbformat_minor": 4
}
